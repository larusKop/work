{
 "cells": [
  {
   "cell_type": "code",
   "execution_count": 1,
   "id": "2faccc7b",
   "metadata": {},
   "outputs": [
    {
     "name": "stdout",
     "output_type": "stream",
     "text": [
      "sex\n",
      "F     942\n",
      "M    1058\n",
      "dtype: int64\n"
     ]
    }
   ],
   "source": [
    "import pandas as pd\n",
    "import numpy as np\n",
    "import matplotlib.pyplot as plt\n",
    "# считывание и обработка одного файла\n",
    "table_data_kids = pd.read_table('C:/Users/larus/Desktop/babynames/yob1880.txt', sep=',', names=['name', 'sex', 'number'])\n",
    "# Вывод общего числа родившихся младенцев каждого пола\n",
    "print(table_data_kids.groupby('sex').size())"
   ]
  },
  {
   "cell_type": "code",
   "execution_count": 2,
   "id": "6ef47371",
   "metadata": {},
   "outputs": [
    {
     "name": "stdout",
     "output_type": "stream",
     "text": [
      "           name sex  number\n",
      "0          Mary   F    7065\n",
      "1          Anna   F    2604\n",
      "2          Emma   F    2003\n",
      "3     Elizabeth   F    1939\n",
      "4        Minnie   F    1746\n",
      "...         ...  ..     ...\n",
      "1995     Woodie   M       5\n",
      "1996     Worthy   M       5\n",
      "1997     Wright   M       5\n",
      "1998       York   M       5\n",
      "1999  Zachariah   M       5\n",
      "\n",
      "[2000 rows x 3 columns]\n"
     ]
    }
   ],
   "source": [
    "import pandas as pd\n",
    "import numpy as np\n",
    "import matplotlib.pyplot as plt\n",
    "# вывод таблицы с одного файла\n",
    "table_data_kids = pd.read_table('C:/Users/larus/Desktop/babynames/yob1880.txt', sep=',', names=['name', 'sex', 'number'])\n",
    "print(table_data_kids)"
   ]
  },
  {
   "cell_type": "code",
   "execution_count": 3,
   "id": "a3580abf",
   "metadata": {},
   "outputs": [
    {
     "name": "stdout",
     "output_type": "stream",
     "text": [
      "              name sex  number  year\n",
      "0             Mary   F    7065  1880\n",
      "1             Anna   F    2604  1880\n",
      "2             Emma   F    2003  1880\n",
      "3        Elizabeth   F    1939  1880\n",
      "4           Minnie   F    1746  1880\n",
      "...            ...  ..     ...   ...\n",
      "1690779    Zymaire   M       5  2010\n",
      "1690780     Zyonne   M       5  2010\n",
      "1690781  Zyquarius   M       5  2010\n",
      "1690782      Zyran   M       5  2010\n",
      "1690783      Zzyzx   M       5  2010\n",
      "\n",
      "[1690784 rows x 4 columns]\n"
     ]
    }
   ],
   "source": [
    "import pandas as pd\n",
    "import numpy as np\n",
    "import matplotlib.pyplot as plt\n",
    "# считывание всех файлов\n",
    "years = range(1880, 2011)\n",
    "pieces = []\n",
    "for i in years:\n",
    "    df = pd.read_table('C:/Users/larus/Desktop/babynames/yob%d.txt'%i, sep = ',', engine = 'python' , names=['name', 'sex', 'number'])\n",
    "    df['year'] = i\n",
    "    pieces.append(df)\n",
    "    data_baby = pd.concat(pieces, ignore_index = True)\n",
    "print(data_baby)"
   ]
  },
  {
   "cell_type": "code",
   "execution_count": 5,
   "id": "ead96b9d",
   "metadata": {},
   "outputs": [
    {
     "name": "stdout",
     "output_type": "stream",
     "text": [
      "year  sex\n",
      "1880  F        942\n",
      "      M       1058\n",
      "1881  F        938\n",
      "      M        997\n",
      "1882  F       1028\n",
      "             ...  \n",
      "2008  M      14590\n",
      "2009  F      20123\n",
      "      M      14479\n",
      "2010  F      19698\n",
      "      M      14140\n",
      "Length: 262, dtype: int64\n"
     ]
    }
   ],
   "source": [
    "import pandas as pd\n",
    "import numpy as np\n",
    "import matplotlib.pyplot as plt\n",
    "# считывание всех файлов\n",
    "years = range(1880, 2011)\n",
    "pieces = []\n",
    "for i in years:\n",
    "    df = pd.read_table('C:/Users/larus/Desktop/babynames/yob%d.txt'%i, sep = ',', engine = 'python' , names=['name', 'sex', 'number'])\n",
    "    df['year'] = i\n",
    "    pieces.append(df)\n",
    "    data_baby = pd.concat(pieces, ignore_index = True)\n",
    "# сгруппируем основдой датафрейм по году и полу\n",
    "YearsSexCount = data_baby.groupby(['year', 'sex']).size()\n",
    "print(YearsSexCount)"
   ]
  },
  {
   "cell_type": "code",
   "execution_count": 8,
   "id": "eb5147dd",
   "metadata": {},
   "outputs": [
    {
     "data": {
      "text/plain": [
       "[]"
      ]
     },
     "execution_count": 8,
     "metadata": {},
     "output_type": "execute_result"
    },
    {
     "data": {
      "image/png": "[encoded data removed]",
      "text/plain": [
       "<Figure size 432x288 with 1 Axes>"
      ]
     },
     "metadata": {
      "needs_background": "light"
     },
     "output_type": "display_data"
    }
   ],
   "source": [
    "import pandas as pd\n",
    "import numpy as np\n",
    "import matplotlib.pyplot as plt\n",
    "# считывание всех файлов\n",
    "years = range(1880, 2011)\n",
    "pieces = []\n",
    "for i in years:\n",
    "    df = pd.read_table('C:/Users/larus/Desktop/babynames/yob%d.txt'%i, sep = ',', engine = 'python' , names=['name', 'sex', 'number'])\n",
    "    df['year'] = i\n",
    "    pieces.append(df)\n",
    "    data_baby = pd.concat(pieces, ignore_index = True)\n",
    "# сгруппируем основдой датафрейм по году и полу\n",
    "YearsSexCount = data_baby.groupby(['year', 'sex']).size()\n",
    "# передаём нужные значения в массивы абсциссы и ординат, строим график\n",
    "abscissa = []\n",
    "ordinada_F = []\n",
    "ordinada_M = []\n",
    "\n",
    "for i in range(1880, 2011):\n",
    "    abscissa.append(i)\n",
    "\n",
    "for i in range(0, 262):\n",
    "    if i % 2 == 0:\n",
    "        ordinada_F.append(YearsSexCount.iloc[i])\n",
    "    else:\n",
    "        ordinada_M.append(YearsSexCount.iloc[i])\n",
    "\n",
    "plt.plot(abscissa, ordinada_F, label='Famale')\n",
    "plt.plot(abscissa, ordinada_M, label='Male')\n",
    "plt.plot()"
   ]
  },
  {
   "cell_type": "code",
   "execution_count": 9,
   "id": "7d6d764a",
   "metadata": {},
   "outputs": [
    {
     "name": "stdout",
     "output_type": "stream",
     "text": [
      "              name sex  number  year    proportion\n",
      "0             Mary   F    7065  1880  2.191359e-05\n",
      "1             Anna   F    2604  1880  8.076855e-06\n",
      "2             Emma   F    2003  1880  6.212727e-06\n",
      "3        Elizabeth   F    1939  1880  6.014217e-06\n",
      "4           Minnie   F    1746  1880  5.415587e-06\n",
      "...            ...  ..     ...   ...           ...\n",
      "1690779    Zymaire   M       5  2010  1.550855e-08\n",
      "1690780     Zyonne   M       5  2010  1.550855e-08\n",
      "1690781  Zyquarius   M       5  2010  1.550855e-08\n",
      "1690782      Zyran   M       5  2010  1.550855e-08\n",
      "1690783      Zzyzx   M       5  2010  1.550855e-08\n",
      "\n",
      "[1690784 rows x 5 columns]\n"
     ]
    }
   ],
   "source": [
    "import pandas as pd\n",
    "import numpy as np\n",
    "import matplotlib.pyplot as plt\n",
    "\n",
    "# считывание всех файлов\n",
    "years = range(1880, 2011)\n",
    "pieces = []\n",
    "for i in years:\n",
    "    df = pd.read_table('C:/Users/larus/Desktop/babynames/yob%d.txt' % i, sep=',', engine='python',\n",
    "                       names=['name', 'sex', 'number'])\n",
    "    df['year'] = i\n",
    "    pieces.append(df)\n",
    "    data_baby = pd.concat(pieces, ignore_index=True)\n",
    "data_baby\n",
    "# Пропорции имён\n",
    "data_baby['proportion'] = data_baby['number'] / sum(data_baby['number'])\n",
    "print(data_baby)"
   ]
  },
  {
   "cell_type": "code",
   "execution_count": 10,
   "id": "3e5164e3",
   "metadata": {},
   "outputs": [
    {
     "data": {
      "text/plain": [
       "[]"
      ]
     },
     "execution_count": 10,
     "metadata": {},
     "output_type": "execute_result"
    },
    {
     "data": {
      "image/png": "[encoded data removed]",
      "text/plain": [
       "<Figure size 432x288 with 1 Axes>"
      ]
     },
     "metadata": {
      "needs_background": "light"
     },
     "output_type": "display_data"
    }
   ],
   "source": [
    "import pandas as pd\n",
    "import numpy as np\n",
    "import matplotlib.pyplot as plt\n",
    "# Вывод графика соотношения имён\n",
    "years = []\n",
    "for i in range(1880, 2011):\n",
    "    years.append(i)\n",
    "Johnny = []\n",
    "Natalie = []\n",
    "Bob = []\n",
    "Alexandr = []\n",
    "for i in range(1880, 2011):\n",
    "    local_df = pd.read_table('C:/Users/larus/Desktop/babynames/yob%d.txt'%i, sep=',', names=['name', 'sex', 'number'])\n",
    "    summ_count = sum(local_df['number'])\n",
    "    J_count= sum(local_df[local_df['name'] == 'Johnny']['number'])\n",
    "    Johnny.append(J_count / summ_count)\n",
    "    N_count= sum(local_df[local_df['name'] == 'Natalie']['number'])\n",
    "    Natalie.append(N_count / summ_count)\n",
    "    B_count= sum(local_df[local_df['name'] == 'Bob']['number'])\n",
    "    Bob.append(B_count / summ_count)\n",
    "    V_count= sum(local_df[local_df['name'] == 'Alexandr']['number'])\n",
    "    Alexandr.append(V_count / summ_count)\n",
    "\n",
    "\n",
    "plt.plot(years, Johnny, label='Johnny')\n",
    "plt.plot(years, Natalie, label='Natalie')\n",
    "plt.plot(years, Bob, label='Bob')\n",
    "plt.plot(years, Alexandr, label='Alexandr')\n",
    "plt.plot()"
   ]
  },
  {
   "cell_type": "code",
   "execution_count": null,
   "id": "71b46966",
   "metadata": {},
   "outputs": [],
   "source": []
  }
 ],
 "metadata": {
  "kernelspec": {
   "display_name": "Python 3 (ipykernel)",
   "language": "python",
   "name": "python3"
  },
  "language_info": {
   "codemirror_mode": {
    "name": "ipython",
    "version": 3
   },
   "file_extension": ".py",
   "mimetype": "text/x-python",
   "name": "python",
   "nbconvert_exporter": "python",
   "pygments_lexer": "ipython3",
   "version": "3.9.7"
  }
 },
 "nbformat": 4,
 "nbformat_minor": 5
}
