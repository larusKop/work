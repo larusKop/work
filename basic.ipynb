{
 "cells": [
  {
   "cell_type": "code",
   "execution_count": 1,
   "id": "c6f74d76",
   "metadata": {},
   "outputs": [
    {
     "name": "stdout",
     "output_type": "stream",
     "text": [
      "1 2 3 4 5 6 7 8 9\n",
      "9 2 3 4 5 6 7 8 1\n"
     ]
    }
   ],
   "source": [
    "mas=input()\n",
    "print(mas[-1]+mas[1:len(mas)-1]+mas[0])"
   ]
  },
  {
   "cell_type": "code",
   "execution_count": 2,
   "id": "6b0c2a5a",
   "metadata": {},
   "outputs": [
    {
     "name": "stdout",
     "output_type": "stream",
     "text": [
      "6\n",
      "6\n",
      "30\n",
      "120\n",
      "360\n",
      "720\n"
     ]
    }
   ],
   "source": [
    "n = int(input())\n",
    "f = 1\n",
    "while n > 1:\n",
    "        f = f * n\n",
    "        n = n - 1\n",
    "        print(f)"
   ]
  },
  {
   "cell_type": "code",
   "execution_count": 3,
   "id": "c6efd2a6",
   "metadata": {},
   "outputs": [
    {
     "name": "stdout",
     "output_type": "stream",
     "text": [
      "rock or paper or scissors: scissors\n",
      "computer: rock\n",
      "you: scissors\n",
      "you lose\n"
     ]
    }
   ],
   "source": [
    "import random\n",
    "computer_list = ['rock', 'paper', 'scissors']\n",
    "user_action = input(\"rock or paper or scissors: \")\n",
    "computer_choice = random.choice(computer_list)\n",
    "print(\"computer:\", computer_choice)\n",
    "print(\"you:\", user_action)\n",
    "if user_action == computer_choice:\n",
    "    print(\"draw\")\n",
    "elif user_action == \"rock\" and computer_choice == \"scissors\":\n",
    "    print(\"you win\")\n",
    "elif user_action == \"paper\" and computer_choice== \"rock\":\n",
    "    print(\"you win\")\n",
    "elif user_action == \"scissors\" and computer_choice == \"paper\":\n",
    "    print(\"you win\")\n",
    "else:\n",
    "    print(\"you lose\")"
   ]
  },
  {
   "cell_type": "code",
   "execution_count": null,
   "id": "f8a0559f",
   "metadata": {},
   "outputs": [],
   "source": []
  }
 ],
 "metadata": {
  "kernelspec": {
   "display_name": "Python 3 (ipykernel)",
   "language": "python",
   "name": "python3"
  },
  "language_info": {
   "codemirror_mode": {
    "name": "ipython",
    "version": 3
   },
   "file_extension": ".py",
   "mimetype": "text/x-python",
   "name": "python",
   "nbconvert_exporter": "python",
   "pygments_lexer": "ipython3",
   "version": "3.9.7"
  }
 },
 "nbformat": 4,
 "nbformat_minor": 5
}
